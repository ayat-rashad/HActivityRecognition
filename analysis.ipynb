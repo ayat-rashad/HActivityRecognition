{
 "cells": [
  {
   "cell_type": "code",
   "execution_count": 1,
   "metadata": {
    "collapsed": false
   },
   "outputs": [],
   "source": [
    "%matplotlib inline\n",
    "import pandas as pd\n",
    "from matplotlib import pyplot as plt\n",
    "import numpy as np\n",
    "from datetime import datetime, timedelta\n",
    "\n",
    "\n",
    "def read_data(fname='all'):\n",
    "    freq = '19230U'   # ~19ms, using sampling frequency is 52samples/sec\n",
    "    dt = datetime.now()\n",
    "    data = pd.DataFrame()\n",
    "    \n",
    "    if fname == 'all':    # read all files\n",
    "        data_files = []\n",
    "        \n",
    "        for f_id in range(1,16):\n",
    "            data = pd.read_csv('data/%d.csv' %f_id, \n",
    "                               names=['id', 'x', 'y', 'z', 'label'], \n",
    "                               header=None, index_col=0)\n",
    "            data.index = pd.date_range(start=dt, periods=data.shape[0], freq=freq)\n",
    "            dt += timedelta(hours=3)\n",
    "            data_files.append(data)\n",
    "            \n",
    "        data = pd.concat(data_files)\n",
    "    \n",
    "    else:    # read one file only\n",
    "        data = pd.read_csv('data/%s.csv' %fname, \n",
    "                   names=['id', 'x', 'y', 'z', 'label'], \n",
    "                   header=None, index_col=0)\n",
    "\n",
    "        data.index = pd.date_range(start='00:00:00', periods=data.shape[0], freq=freq)\n",
    "        \n",
    "    # Filter and clean data\n",
    "    data = data.dropna()\n",
    "    data = data[data['label'] != 0]   # some rows are misclassified as 0\n",
    "        \n",
    "    return data"
   ]
  },
  {
   "cell_type": "markdown",
   "metadata": {
    "collapsed": false
   },
   "source": [
    "### Feature extraction.\n",
    "Segment the data using sliding window of size 10s, and from each window extract the common features (mean, standard deviation, variance), and some other features used specifically for Human Activity Recognition like RMS (Root Mean Square), magnitude of acceleration, and pairwise correlation between x, y, z."
   ]
  },
  {
   "cell_type": "code",
   "execution_count": 2,
   "metadata": {
    "collapsed": false
   },
   "outputs": [],
   "source": [
    "from scipy.stats import mode \n",
    "\n",
    "def rms(ts): return np.sqrt(np.mean(ts**2))\n",
    "\n",
    "def corr(df): \n",
    "    cor = df.corr()\n",
    "    return pd.DataFrame({'xy':[cor['x']['y']], 'xz':[cor['x']['z']], 'yz':[cor['y']['z']]})\n",
    "\n",
    "def get_features(data, wsize='10s', f_list=['mean', 'std', 'var', rms]):\n",
    "    # f_list is a list of features names or methods to apply in resampling\n",
    "    \n",
    "    # features that invlove one dimension only.\n",
    "    fname = '_' + (f_list[0] if isinstance(f_list[0], str) else f_list[0].__name__)   \n",
    "    feats = data[['x','y','z']].resample(wsize, how=f_list[0]).add_suffix(fname)\n",
    "    \n",
    "    for i, f in enumerate(f_list[1:]):\n",
    "        fname = '_' + (f if isinstance(f, str) else f.__name__)\n",
    "        feat = data[['x','y','z']].resample(wsize, how=f).add_suffix(fname)\n",
    "        feats = feats.join(feat)   \n",
    "\n",
    "    # features that involve more than one dimension.                                               \n",
    "    mean_mag = (data**2).sum(axis=1).resample(wsize, how=lambda ts: np.sqrt(ts).mean())\n",
    "    mean_mag.name = 'mean_mag'\n",
    "    feats = feats.join(mean_mag) \n",
    "\n",
    "    pairs_cor = data.groupby(pd.TimeGrouper(wsize)).apply(corr).reset_index(1, drop=True)\n",
    "    feats = feats.join(pairs_cor) \n",
    "    \n",
    "    y = data['label'].resample(wsize, how=lambda ts: mode(ts)[0] if ts.shape[0] > 0 else np.nan)   \n",
    "\n",
    "    # drop any nan values\n",
    "    mask = np.any(np.isnan(feats), axis=1)\n",
    "    feats, y = feats[~mask], y[~mask]\n",
    "    mask = np.isnan(y)\n",
    "    feats, y = feats[~mask], y[~mask]\n",
    "    \n",
    "    return (feats, y)\n"
   ]
  },
  {
   "cell_type": "markdown",
   "metadata": {},
   "source": [
    "### Choosing and tuning the model.\n",
    "\n",
    "Splitting data (after feature extraction) into train and test subsets. Using grid search on the training set each model is trained and tuned, the the models are compared according to their performance on the test set using accuracy and AUC (Area Under ROC Curve)."
   ]
  },
  {
   "cell_type": "code",
   "execution_count": 26,
   "metadata": {
    "collapsed": false
   },
   "outputs": [
    {
     "name": "stdout",
     "output_type": "stream",
     "text": [
      "Best score: 0.822006472492\n",
      "Best params: {'n_estimators': 50}\n",
      "Accuracy score on the test set: 0.824\n",
      "Best score: 0.803667745415\n",
      "Best params: {'n_estimators': 400, 'learning_rate': 0.1, 'max_depth': 3}\n",
      "Accuracy score on the test set: 0.824\n",
      "Best score: 0.639338367494\n",
      "Best params: {'n_estimators': 200, 'learning_rate': 0.1}\n",
      "Accuracy score on the test set: 0.620\n",
      "Best score: 0.783531103919\n",
      "Best params: {'voting': 'soft'}\n",
      "Accuracy score on the test set: 0.800\n"
     ]
    },
    {
     "data": {
      "image/png": "[encoded data removed]",
      "text/plain": [
       "<matplotlib.figure.Figure at 0x7f0dacece850>"
      ]
     },
     "metadata": {},
     "output_type": "display_data"
    }
   ],
   "source": [
    "from sklearn.cross_validation import cross_val_score, StratifiedKFold\n",
    "from sklearn.cross_validation import train_test_split\n",
    "from sklearn.preprocessing import label_binarize\n",
    "from sklearn.grid_search import GridSearchCV\n",
    "from sklearn.metrics import confusion_matrix, roc_curve, auc, accuracy_score\n",
    "from sklearn.svm import SVC\n",
    "from sklearn.tree import DecisionTreeClassifier\n",
    "from sklearn.ensemble import RandomForestClassifier, GradientBoostingClassifier,\n",
    "AdaBoostClassifier, VotingClassifier\n",
    "from sklearn.neighbors import KNeighborsClassifier\n",
    "\n",
    "def train_model(X, y, est, grid):\n",
    "    gs = GridSearchCV(estimator=est, param_grid=grid, scoring='accuracy', cv=5, n_jobs=-1)\n",
    "    gs = gs.fit(X, y)\n",
    "    print 'Best params:', gs.best_params_  \n",
    "    \n",
    "    return (gs.best_estimator_, gs.best_params_)\n",
    "\n",
    "\n",
    "def eval_model(mod, X_test, y_test, mod_name):\n",
    "    y_prob = mod.predict_proba(X_test)\n",
    "    y_test_bin = label_binarize(y_test, classes=[1, 2, 3, 4, 5, 6, 7])\n",
    "    fpr, tpr, _ = roc_curve(y_test_bin.ravel(), y_prob.ravel())\n",
    "    roc_auc = auc(fpr, tpr)\n",
    "    \n",
    "    plt.plot(fpr, tpr, lw=2,\n",
    "             label='average ROC curve (auc=%0.2f), model: %s' % (roc_auc,mod_name))\n",
    "    plt.legend(loc=\"lower right\")\n",
    "    \n",
    "    y_pred = mod.predict(X_test)\n",
    "    score = accuracy_score(y_true=y_test, y_pred=y_pred)\n",
    "    print 'Accuracy score on the test set: %.3f' %score\n",
    "    \n",
    "    confmat = confusion_matrix(y_true=y_test, y_pred=y_pred)\n",
    "    print 'Confusion Matrix...'\n",
    "    print confmat\n",
    "\n",
    "\n",
    "data = read_data('1')\n",
    "param_range = [0.0001, 0.001, 0.01, 0.1]\n",
    "\n",
    "feats, y = get_features(data, wsize='10s')\n",
    "# split data into train and test sets\n",
    "X_train, X_test, y_train, y_test = train_test_split(feats, y, test_size=.25, random_state=0, stratify=y)\n",
    "\n",
    "\n",
    "# Support Vector Machine\n",
    "'''model, params = train_model(X_train, y_train, \n",
    "                    est=SVC(probability=True),\n",
    "                    #grid=[{'C': param_range[:1], 'degree': [2], 'kernel': ['poly']}])\n",
    "                    grid={'C': param_range[:1], 'gamma': param_range[:1], 'kernel': ['linear']})\n",
    "eval_model(model, X_test, y_test, 'SVC')\n",
    "              \n",
    "# Decision Tree\n",
    "model, params = train_model(X_train, y_train, \n",
    "                    est=DecisionTreeClassifier(criterion='entropy'),\n",
    "                    grid={'max_depth':[2,3,4,5 ]})\n",
    "eval_model(model, X_test, y_test, 'Tree')'''\n",
    "\n",
    "# Random Forest\n",
    "model, params = train_model(X_train, y_train, \n",
    "                    est=RandomForestClassifier(n_jobs=-1, criterion='entropy'),\n",
    "                    grid={'n_estimators':[50, 100, 200]})\n",
    "eval_model(model, X_test, y_test,'Forest')\n",
    "\n",
    "# Gradient Boosting\n",
    "model, params = train_model(X_train, y_train, \n",
    "                    est=GradientBoostingClassifier(learning_rate=1.0, random_state=0),\n",
    "                    grid={'n_estimators':[50, 200, 400], 'max_depth':[1,2,3],\n",
    "                          'learning_rate':[.1,.05,.01,.005]})\n",
    "eval_model(model, X_test, y_test,'GBC')\n",
    "\n",
    "# Ada Boosting\n",
    "model, params = train_model(X_train, y_train, \n",
    "                    est=AdaBoostClassifier(),\n",
    "                    grid={'n_estimators':[50, 200, 400], 'learning_rate':[.1,.05,.01,.005]})\n",
    "eval_model(model, X_test, y_test,'ABC')\n",
    "\n",
    "'''model, params = train_model(X_train, y_train, \n",
    "                    est=KNeighborsClassifier(),\n",
    "                    grid={'n_neighbors':[5, 8, 10], 'weights':['uniform', 'distance']})\n",
    "eval_model(model, X_test, y_test,'KNN')\n",
    "'''\n",
    "\n",
    "#\n",
    "model, params = train_model(X_train, y_train, \n",
    "                    est=VotingClassifier(estimators=[\n",
    "                            ('ABC', AdaBoostClassifier(n_estimators=50, learning_rate=.05)),\n",
    "                            ('GBC', GradientBoostingClassifier(learning_rate=.1, n_estimators=50, max_depth=2)),\n",
    "                            ('FC', RandomForestClassifier(criterion='entropy', n_jobs=-1, n_estimators=50))\n",
    "                                                    ]),\n",
    "                    grid={'voting':['soft']})\n",
    "eval_model(model, X_test, y_test,'VC')\n"
   ]
  },
  {
   "cell_type": "markdown",
   "metadata": {
    "collapsed": false
   },
   "source": [
    "### Trying different windows sizes.\n",
    "\n",
    "The choice of a window size of ... was quite arbitrary, in the research papers on HAR different window sizes were used that range from 1 sec to 20 sec.\n",
    "Also types of windows are used in the field, disjoint and overlapping. get_features2 defines the same features defined before but using rolling window taking only values at overlapping of 50%."
   ]
  },
  {
   "cell_type": "code",
   "execution_count": null,
   "metadata": {
    "collapsed": false
   },
   "outputs": [],
   "source": [
    "def get_features2(data, wsize_sec):\n",
    "    wsize = 52 * wsize_sec   # sampling frequency/sec * length of window in seconds\n",
    "    feats = pd.rolling_mean(data[['x','y','z']], wsize, wsize/2).add_suffix('_mean')\n",
    "    \n",
    "    feat = pd.rolling_std(data[['x','y','z']], wsize, wsize/2).add_suffix('_std')\n",
    "    feats = feats.join(feat)\n",
    "    \n",
    "    feat = pd.rolling_var(data[['x','y','z']], wsize, wsize/2).add_suffix('_var')\n",
    "    feats = feats.join(feat)\n",
    "    \n",
    "    feat = pd.rolling_apply(data[['x','y','z']], wsize, rms, wsize/2).add_suffix('_rms')\n",
    "    feats = feats.join(feat)\n",
    "        \n",
    "    mean_mag = pd.rolling_apply((data**2).sum(axis=1), wsize, lambda ts: np.sqrt(ts).mean(), wsize/2)\n",
    "    mean_mag.name = 'mean_mag'\n",
    "    feats = feats.join(mean_mag) \n",
    "\n",
    "    xy_cor = pd.rolling_corr(data['x'], data['y'], wsize, wsize/2)\n",
    "    xy_cor.name = 'xy'\n",
    "    xz_cor = pd.rolling_corr(data['x'], data['z'], wsize, wsize/2)\n",
    "    xz_cor.name = 'xz'\n",
    "    yz_cor = pd.rolling_corr(data['y'], data['z'], wsize, wsize/2)\n",
    "    yz_cor.name = 'yz'\n",
    "    feats = feats.join(xy_cor).join(xz_cor).join(yz_cor)\n",
    "    \n",
    "    # take the most frequent label in each window\n",
    "    y = pd.rolling_apply(data['label'], wsize, lambda ts: mode(ts)[0], wsize/2)   \n",
    "    feats = feats.iloc[wsize/2::wsize/2]\n",
    "    y = y.iloc[wsize/2::wsize/2]\n",
    "    \n",
    "    return feats, y\n",
    "\n",
    "\n",
    "win_sizes = ['2','3', '5', '7', '10', '15', '20']\n",
    "best_model = RandomForestClassifier(criterion='entropy', n_jobs=-1, n_estimators=50)\n",
    "\n",
    "for wsize in win_sizes:\n",
    "    print 'Window Size: %s' % wsize\n",
    "    \n",
    "    # disjoint window\n",
    "    feats, y = get_features(data, wsize=wsize + 's')\n",
    "    X_train, X_test, y_train, y_test = train_test_split(feats, y, test_size=.25,\n",
    "                                                        random_state=0, stratify=y)\n",
    "    best_model.fit(X_train, y_train)\n",
    "    eval_model(best_model, X_test, y_test,'%ss - nonoverlapping' %wsize)\n",
    "\n",
    "    \n",
    "    # overlapping window\n",
    "    feats, y = get_features2(data, int(wsize))\n",
    "    X_train, X_test, y_train, y_test = train_test_split(feats, y, test_size=.25,\n",
    "                                                        random_state=0, stratify=y)\n",
    "    best_model.fit(X_train, y_train)\n",
    "    eval_model(best_model, X_test, y_test,'%ss - overlapping' %wsize)\n",
    "\n",
    "    "
   ]
  },
  {
   "cell_type": "markdown",
   "metadata": {},
   "source": [
    "### Testing models on multi-subject data."
   ]
  },
  {
   "cell_type": "code",
   "execution_count": 46,
   "metadata": {
    "collapsed": false
   },
   "outputs": [],
   "source": [
    "best_model = RandomForestClassifier(criterion='entropy', n_jobs=-1, n_estimators=50)\n",
    "data_all = read_data('all') \n",
    "feats, y = get_features2(data, wsize='10s')\n",
    "X_train, X_test, y_train, y_test = train_test_split(feats_norm, y, test_size=.25,\n",
    "                                                    random_state=0, stratify=y)\n",
    "best_model.fit(X_train, y_train)\n",
    "eval_model(best_model, X_test, y_test,'%ss - nonoverlapping' %wsize)\n"
   ]
  },
  {
   "cell_type": "markdown",
   "metadata": {},
   "source": [
    "### Try detecting and removing outliers."
   ]
  },
  {
   "cell_type": "code",
   "execution_count": null,
   "metadata": {
    "collapsed": false
   },
   "outputs": [],
   "source": [
    "from sklearn import svm\n",
    "\n",
    "clf = svm.OneClassSVM(kernel=\"linear\", nu=.25, gamma=.001)\n",
    "clf.fit(feats)\n",
    "\n",
    "ol_pred = clf.predict(feats)\n",
    "\n",
    "mask = (ol_pred==1)\n",
    "feats2, y2 = feats[mask], y[mask]\n",
    "X_train, X_test, y_train, y_test = train_test_split(feats2, y2, test_size=.25,\n",
    "                                                    random_state=0, stratify=y)\n",
    "best_model.fit(X_train, y_train)\n",
    "eval_model(best_model, X_test, y_test,'..')\n"
   ]
  },
  {
   "cell_type": "markdown",
   "metadata": {},
   "source": [
    "### Try normalization."
   ]
  },
  {
   "cell_type": "code",
   "execution_count": null,
   "metadata": {
    "collapsed": false
   },
   "outputs": [],
   "source": [
    "from sklearn.preprocessing import normalize\n",
    "\n",
    "feats_norm = normalize(feats, axis=0)\n",
    "X_train, X_test, y_train, y_test = train_test_split(feats_norm, y, test_size=.25,\n",
    "                                                    random_state=0, stratify=y)\n",
    "best_model.fit(X_train, y_train)\n",
    "eval_model(best_model, X_test, y_test,'...')\n"
   ]
  }
 ],
 "metadata": {
  "kernelspec": {
   "display_name": "Python 2",
   "language": "python",
   "name": "python2"
  },
  "language_info": {
   "codemirror_mode": {
    "name": "ipython",
    "version": 2
   },
   "file_extension": ".py",
   "mimetype": "text/x-python",
   "name": "python",
   "nbconvert_exporter": "python",
   "pygments_lexer": "ipython2",
   "version": "2.7.6"
  }
 },
 "nbformat": 4,
 "nbformat_minor": 0
}
